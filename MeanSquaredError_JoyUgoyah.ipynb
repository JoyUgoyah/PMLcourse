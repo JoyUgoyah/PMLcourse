{
  "nbformat": 4,
  "nbformat_minor": 0,
  "metadata": {
    "kernelspec": {
      "display_name": "Python 3",
      "language": "python",
      "name": "python3"
    },
    "language_info": {
      "codemirror_mode": {
        "name": "ipython",
        "version": 3
      },
      "file_extension": ".py",
      "mimetype": "text/x-python",
      "name": "python",
      "nbconvert_exporter": "python",
      "pygments_lexer": "ipython3",
      "version": "3.7.4"
    },
    "colab": {
      "name": "MeanSquaredError_JoyUgoyah.ipynb",
      "provenance": [],
      "include_colab_link": true
    }
  },
  "cells": [
    {
      "cell_type": "markdown",
      "metadata": {
        "id": "view-in-github",
        "colab_type": "text"
      },
      "source": [
        "<a href=\"https://colab.research.google.com/github/JoyUgoyah/PMLcourse/blob/master/MeanSquaredError_JoyUgoyah.ipynb\" target=\"_parent\"><img src=\"https://colab.research.google.com/assets/colab-badge.svg\" alt=\"Open In Colab\"/></a>"
      ]
    },
    {
      "cell_type": "code",
      "metadata": {
        "id": "B4IcuXBog9wK",
        "colab_type": "code",
        "colab": {}
      },
      "source": [
        "import numpy as np\n",
        "import pandas as pd\n",
        "class Linearmodel:\n",
        "    def __init__(self,*args):\n",
        "        self.x = None\n",
        "        self.y = None\n",
        "        \n",
        "    def train(self,x,y):\n",
        "        self.x = np.array(x)\n",
        "        self.y = np.array(y)\n",
        "        self.n = len(self.x)\n",
        "        self.x_sum = (self.x).sum()\n",
        "        self.y_sum = (self.y).sum()\n",
        "        self.sum_xy = (self.x * self.y).sum()\n",
        "        self.x_squared_sum = (self.x**2).sum()\n",
        "        self.nume = self.n*self.sum_xy - (self.x_sum*self.y_sum)\n",
        "        self.denum = self.n*self.x_squared_sum - self.x_sum**2\n",
        "        self.coef = self.nume/self.denum\n",
        "        self.intercept = (self.y).mean()-self.coef*(self.x).mean()\n",
        "        \n",
        "    def predict(self,x):\n",
        "        y_predict = self.intercept+self.coef*np.array(x)\n",
        "        return y_predict\n",
        "    \n",
        "    def loss(self,x,y,y_predict):\n",
        "        MSE = ((y-y_predict)**2)/self.n\n",
        "        table1 = {'x':(x), 'y':(y), 'y_predict':(y_predict), 'MSE':(MSE)}\n",
        "        df = pd.DataFrame(table1, index = [0,1,2,3,4])\n",
        "        return df\n",
        "    "
      ],
      "execution_count": 0,
      "outputs": []
    },
    {
      "cell_type": "code",
      "metadata": {
        "id": "azUJ58BVg9wx",
        "colab_type": "code",
        "colab": {}
      },
      "source": [
        "model1 = Linearmodel()"
      ],
      "execution_count": 0,
      "outputs": []
    },
    {
      "cell_type": "code",
      "metadata": {
        "id": "nNpa5O5pg9xF",
        "colab_type": "code",
        "colab": {},
        "outputId": "2eb4d71e-6934-4375-e026-2cc336178ffa"
      },
      "source": [
        "data=np.array([[4.2,8.4],[2.7,6.2],[8.9,12.5],[8.2,10.5],[10.2,13]])\n",
        "print(np.array2string(data).replace('[[', '[').replace(']]',']'))"
      ],
      "execution_count": 0,
      "outputs": [
        {
          "output_type": "stream",
          "text": [
            "[ 4.2  8.4]\n",
            " [ 2.7  6.2]\n",
            " [ 8.9 12.5]\n",
            " [ 8.2 10.5]\n",
            " [10.2 13. ]\n"
          ],
          "name": "stdout"
        }
      ]
    },
    {
      "cell_type": "code",
      "metadata": {
        "id": "jXxugLCKg9xZ",
        "colab_type": "code",
        "colab": {}
      },
      "source": [
        "x=data[:,0]\n",
        "y=data[:,1]"
      ],
      "execution_count": 0,
      "outputs": []
    },
    {
      "cell_type": "code",
      "metadata": {
        "id": "WoT0CAHGg9xs",
        "colab_type": "code",
        "colab": {}
      },
      "source": [
        "model1.train(x,y)"
      ],
      "execution_count": 0,
      "outputs": []
    },
    {
      "cell_type": "code",
      "metadata": {
        "id": "pp2KcxIQg9yA",
        "colab_type": "code",
        "colab": {}
      },
      "source": [
        "# y_predict = model1.predict(x)"
      ],
      "execution_count": 0,
      "outputs": []
    },
    {
      "cell_type": "code",
      "metadata": {
        "id": "-RkPqv71g9yU",
        "colab_type": "code",
        "colab": {},
        "outputId": "099c012c-30e1-444e-f2d8-aee743bf096b"
      },
      "source": [
        "model1.loss(x,y,y_predict)"
      ],
      "execution_count": 0,
      "outputs": [
        {
          "output_type": "execute_result",
          "data": {
            "text/html": [
              "<div>\n",
              "<style scoped>\n",
              "    .dataframe tbody tr th:only-of-type {\n",
              "        vertical-align: middle;\n",
              "    }\n",
              "\n",
              "    .dataframe tbody tr th {\n",
              "        vertical-align: top;\n",
              "    }\n",
              "\n",
              "    .dataframe thead th {\n",
              "        text-align: right;\n",
              "    }\n",
              "</style>\n",
              "<table border=\"1\" class=\"dataframe\">\n",
              "  <thead>\n",
              "    <tr style=\"text-align: right;\">\n",
              "      <th></th>\n",
              "      <th>x</th>\n",
              "      <th>y</th>\n",
              "      <th>y_predict</th>\n",
              "      <th>MSE</th>\n",
              "    </tr>\n",
              "  </thead>\n",
              "  <tbody>\n",
              "    <tr>\n",
              "      <td>0</td>\n",
              "      <td>4.2</td>\n",
              "      <td>8.4</td>\n",
              "      <td>7.837964</td>\n",
              "      <td>0.063177</td>\n",
              "    </tr>\n",
              "    <tr>\n",
              "      <td>1</td>\n",
              "      <td>2.7</td>\n",
              "      <td>6.2</td>\n",
              "      <td>6.541353</td>\n",
              "      <td>0.023304</td>\n",
              "    </tr>\n",
              "    <tr>\n",
              "      <td>2</td>\n",
              "      <td>8.9</td>\n",
              "      <td>12.5</td>\n",
              "      <td>11.900680</td>\n",
              "      <td>0.071837</td>\n",
              "    </tr>\n",
              "    <tr>\n",
              "      <td>3</td>\n",
              "      <td>8.2</td>\n",
              "      <td>10.5</td>\n",
              "      <td>11.295594</td>\n",
              "      <td>0.126594</td>\n",
              "    </tr>\n",
              "    <tr>\n",
              "      <td>4</td>\n",
              "      <td>10.2</td>\n",
              "      <td>13.0</td>\n",
              "      <td>13.024410</td>\n",
              "      <td>0.000119</td>\n",
              "    </tr>\n",
              "  </tbody>\n",
              "</table>\n",
              "</div>"
            ],
            "text/plain": [
              "      x     y  y_predict       MSE\n",
              "0   4.2   8.4   7.837964  0.063177\n",
              "1   2.7   6.2   6.541353  0.023304\n",
              "2   8.9  12.5  11.900680  0.071837\n",
              "3   8.2  10.5  11.295594  0.126594\n",
              "4  10.2  13.0  13.024410  0.000119"
            ]
          },
          "metadata": {
            "tags": []
          },
          "execution_count": 129
        }
      ]
    },
    {
      "cell_type": "code",
      "metadata": {
        "id": "FmKlnT4Ig9ym",
        "colab_type": "code",
        "colab": {}
      },
      "source": [
        ""
      ],
      "execution_count": 0,
      "outputs": []
    },
    {
      "cell_type": "code",
      "metadata": {
        "id": "P84ug_2Hg9yy",
        "colab_type": "code",
        "colab": {}
      },
      "source": [
        ""
      ],
      "execution_count": 0,
      "outputs": []
    }
  ]
}